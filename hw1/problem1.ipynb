{
 "cells": [
  {
   "cell_type": "markdown",
   "metadata": {},
   "source": [
    "Before you turn this problem in, make sure everything runs as expected. First, **restart the kernel** (in the menubar, select Kernel$\\rightarrow$Restart) and then **run all cells** (in the menubar, select Cell$\\rightarrow$Run All).\n",
    "\n",
    "Make sure you fill in any place that says `YOUR CODE HERE` or \"YOUR ANSWER HERE\", as well as your name and collaborators below:"
   ]
  },
  {
   "cell_type": "code",
   "execution_count": null,
   "metadata": {},
   "outputs": [],
   "source": [
    "NAME = \"\"\n",
    "COLLABORATORS = \"\""
   ]
  },
  {
   "cell_type": "markdown",
   "metadata": {},
   "source": [
    "---"
   ]
  },
  {
   "cell_type": "markdown",
   "metadata": {
    "deletable": false,
    "editable": false,
    "nbgrader": {
     "checksum": "535c21960d4663d5edac398cb445d087",
     "grade": false,
     "grade_id": "jupyter",
     "locked": true,
     "schema_version": 1,
     "solution": false
    }
   },
   "source": [
    "For this problem set, we'll be using the Jupyter notebook:\n",
    "\n",
    "![](jupyter.png)"
   ]
  },
  {
   "cell_type": "markdown",
   "metadata": {},
   "source": [
    "---\n",
    "## Part A (2 points)\n",
    "\n",
    "Write a function that finds the power $b^x$ for any positive integer x.\n"
   ]
  },
  {
   "cell_type": "code",
   "execution_count": null,
   "metadata": {
    "deletable": false,
    "nbgrader": {
     "checksum": "c1b8f8a80e2cc7bf362e1858ddbad452",
     "grade": false,
     "grade_id": "exp_pos",
     "locked": false,
     "schema_version": 1,
     "solution": true
    }
   },
   "outputs": [],
   "source": [
    "def exp_pos(b,x):\n",
    "    \"\"\"Find the power of b^x. Assume x is a positive integer.   \n",
    "    \"\"\"\n",
    "    # YOUR CODE HERE\n",
    "    raise NotImplementedError()"
   ]
  },
  {
   "cell_type": "markdown",
   "metadata": {},
   "source": [
    "For $n=2,x=3,$ your function should print 8. Check that it does:"
   ]
  },
  {
   "cell_type": "code",
   "execution_count": null,
   "metadata": {},
   "outputs": [],
   "source": [
    "exp_pos(2,3)"
   ]
  },
  {
   "cell_type": "code",
   "execution_count": null,
   "metadata": {
    "deletable": false,
    "editable": false,
    "nbgrader": {
     "checksum": "9af764f7a4d05945bfb7e3b69d22ff67",
     "grade": true,
     "grade_id": "correct_exp_pos",
     "locked": false,
     "points": 1,
     "schema_version": 1,
     "solution": false
    }
   },
   "outputs": [],
   "source": [
    "\"\"\"Check that exp_pos returns the correct output for several inputs\"\"\"\n",
    "assert exp_pos(3,2) == 9\n",
    "assert exp_pos(3,4) == 81\n",
    "assert exp_pos(1,4) == 1\n",
    "assert exp_pos(4,1) == 4\n",
    "assert exp_pos(0,4) == 0"
   ]
  },
  {
   "cell_type": "code",
   "execution_count": null,
   "metadata": {
    "deletable": false,
    "editable": false,
    "nbgrader": {
     "checksum": "aea41d4f5569135c583e9d8b4e9a6b4f",
     "grade": true,
     "grade_id": "correct_-b_exp_pos",
     "locked": false,
     "points": 1,
     "schema_version": 1,
     "solution": false
    }
   },
   "outputs": [],
   "source": []
  },
  {
   "cell_type": "markdown",
   "metadata": {},
   "source": [
    "---\n",
    "\n",
    "## Part B (3 points)\n",
    "\n",
    "Write a function that find the power $b^x$ for any negative integer $x$. Make sure it handles the case where $b=0$ by raising a `ValueError`."
   ]
  },
  {
   "cell_type": "code",
   "execution_count": null,
   "metadata": {
    "deletable": false,
    "nbgrader": {
     "checksum": "f6f769d88239cdff6cbf805fd8a34f4e",
     "grade": false,
     "grade_id": "exp_neg",
     "locked": false,
     "schema_version": 1,
     "solution": true
    }
   },
   "outputs": [],
   "source": [
    "def exp_neg(b,x):\n",
    "    \"\"\"Find the power of b^x. Assume x is a negative integer. \n",
    "    \"\"\"\n",
    "    # YOUR CODE HERE\n",
    "    raise NotImplementedError()"
   ]
  },
  {
   "cell_type": "markdown",
   "metadata": {},
   "source": [
    "For $n=2,x=-3,$ your function should print 0.125. Check that it does:"
   ]
  },
  {
   "cell_type": "code",
   "execution_count": null,
   "metadata": {},
   "outputs": [],
   "source": [
    "exp_neg(2,-3)"
   ]
  },
  {
   "cell_type": "code",
   "execution_count": null,
   "metadata": {
    "deletable": false,
    "editable": false,
    "nbgrader": {
     "checksum": "ec14bfd563fb13bdeb21d4cf7979b6a0",
     "grade": true,
     "grade_id": "correct_exp_neg",
     "locked": false,
     "points": 1,
     "schema_version": 1,
     "solution": false
    }
   },
   "outputs": [],
   "source": [
    "\"\"\"Check that exp_neg returns the correct output for several inputs\"\"\"\n",
    "assert exp_neg(3,-2) == 1/9\n",
    "assert exp_neg(3,-4) == 1/81\n",
    "assert exp_neg(1,-4) == 1\n",
    "assert exp_neg(4,-1) == 1/4"
   ]
  },
  {
   "cell_type": "code",
   "execution_count": null,
   "metadata": {
    "deletable": false,
    "editable": false,
    "nbgrader": {
     "checksum": "60a2d33203138c239dfbc7a03648a6ff",
     "grade": true,
     "grade_id": "correct_-b_exp_neg",
     "locked": true,
     "points": 1,
     "schema_version": 1,
     "solution": false
    }
   },
   "outputs": [],
   "source": []
  },
  {
   "cell_type": "code",
   "execution_count": null,
   "metadata": {
    "deletable": false,
    "editable": false,
    "nbgrader": {
     "checksum": "a2597307e9f1d00de55c02f82459cebf",
     "grade": true,
     "grade_id": "correct_exp_neg_error",
     "locked": true,
     "points": 1,
     "schema_version": 1,
     "solution": false
    }
   },
   "outputs": [],
   "source": [
    "\"\"\"Check that exp_neg raises an error for invalid inputs\"\"\"\n",
    "try:\n",
    "    exp_neg(0,-2)\n",
    "except ValueError:\n",
    "    pass\n",
    "else:\n",
    "    raise AssertionError(\"did not raise ValueError\")\n",
    "    \n",
    "try:\n",
    "    exp_neg(0,-1)\n",
    "except ValueError:\n",
    "    pass\n",
    "else:\n",
    "    raise AssertionError(\"did not raise ValueError\")"
   ]
  },
  {
   "cell_type": "markdown",
   "metadata": {},
   "source": [
    "---\n",
    "\n",
    "## Part C (2 points)\n",
    "\n",
    "Using `exp_pos` and `exp_neg` write a function to find the power $b^x$ for any integer $x$."
   ]
  },
  {
   "cell_type": "code",
   "execution_count": null,
   "metadata": {
    "deletable": false,
    "nbgrader": {
     "checksum": "2d6f35246b0e75770632cb6d9b5ba92f",
     "grade": false,
     "grade_id": "sum_of_squares",
     "locked": false,
     "schema_version": 1,
     "solution": true
    }
   },
   "outputs": [],
   "source": [
    "def exp(b,x):\n",
    "    \"\"\"Find the power of $b^x$.  \n",
    "    \"\"\"\n",
    "    # YOUR CODE HERE\n",
    "    raise NotImplementedError()"
   ]
  },
  {
   "cell_type": "code",
   "execution_count": null,
   "metadata": {
    "deletable": false,
    "editable": false,
    "nbgrader": {
     "checksum": "e373e021108d02959ed432b4f6b591e5",
     "grade": true,
     "grade_id": "correct_exp",
     "locked": false,
     "points": 1,
     "schema_version": 1,
     "solution": false
    }
   },
   "outputs": [],
   "source": [
    "\"\"\"Check that exp returns the correct output for several inputs\"\"\"\n",
    "assert exp(3,2) == 9\n",
    "assert exp(3,4) == 81\n",
    "assert exp(1,4) == 1\n",
    "assert exp(4,1) == 4\n",
    "assert exp(3,-2) == 1/9\n",
    "assert exp(3,-4) == 1/81\n",
    "assert exp(1,-4) == 1\n",
    "assert exp(4,-1) == 1/4\n",
    "\n",
    "\"\"\"Check that exp raises an error for invalid inputs\"\"\"\n",
    "try:\n",
    "    exp(0,-2)\n",
    "except ValueError:\n",
    "    pass\n",
    "else:\n",
    "    raise AssertionError(\"did not raise ValueError\")"
   ]
  },
  {
   "cell_type": "code",
   "execution_count": null,
   "metadata": {
    "deletable": false,
    "editable": false,
    "nbgrader": {
     "checksum": "c044e413a7d3f4f8d1d45309e7938f45",
     "grade": true,
     "grade_id": "correct_p0_exp",
     "locked": true,
     "points": 1,
     "schema_version": 1,
     "solution": false
    }
   },
   "outputs": [],
   "source": []
  }
 ],
 "metadata": {
  "kernelspec": {
   "display_name": "Python 3",
   "language": "python",
   "name": "python3"
  }
 },
 "nbformat": 4,
 "nbformat_minor": 1
}
