{
 "cells": [
  {
   "cell_type": "markdown",
   "metadata": {
    "nbgrader": {
     "grade": false,
     "grade_id": "jupyter",
     "locked": true,
     "schema_version": 1,
     "solution": false
    }
   },
   "source": [
    "For this problem set, we'll be using the Jupyter notebook:\n",
    "\n",
    "![](jupyter.png)"
   ]
  },
  {
   "cell_type": "markdown",
   "metadata": {},
   "source": [
    "---\n",
    "## Part A (2 points)\n",
    "\n",
    "Write a function that finds the power $b^x$ for any positive integer x.\n"
   ]
  },
  {
   "cell_type": "code",
   "execution_count": 1,
   "metadata": {
    "collapsed": true,
    "nbgrader": {
     "grade": false,
     "grade_id": "exp_pos",
     "locked": false,
     "schema_version": 1,
     "solution": true
    }
   },
   "outputs": [],
   "source": [
    "def exp_pos(b,x):\n",
    "    \"\"\"Find the power of b^x. Assume x is a positive integer.   \n",
    "    \"\"\"\n",
    "    ### BEGIN SOLUTION\n",
    "    p=b\n",
    "    e=x\n",
    "    while e>1:\n",
    "        p*=b\n",
    "        e-=1\n",
    "    return p\n",
    "    ### END SOLUTION"
   ]
  },
  {
   "cell_type": "markdown",
   "metadata": {},
   "source": [
    "For $n=2,x=3,$ your function should print 8. Check that it does:"
   ]
  },
  {
   "cell_type": "code",
   "execution_count": 2,
   "metadata": {},
   "outputs": [
    {
     "data": {
      "text/plain": [
       "8"
      ]
     },
     "execution_count": 2,
     "metadata": {},
     "output_type": "execute_result"
    }
   ],
   "source": [
    "exp_pos(2,3)"
   ]
  },
  {
   "cell_type": "code",
   "execution_count": 3,
   "metadata": {
    "nbgrader": {
     "grade": true,
     "grade_id": "correct_exp_pos",
     "locked": false,
     "points": 1,
     "schema_version": 1,
     "solution": false
    }
   },
   "outputs": [
    {
     "ename": "SyntaxError",
     "evalue": "invalid syntax (<ipython-input-3-ad3e585ea929>, line 5)",
     "output_type": "error",
     "traceback": [
      "\u001b[0;36m  File \u001b[0;32m\"<ipython-input-3-ad3e585ea929>\"\u001b[0;36m, line \u001b[0;32m5\u001b[0m\n\u001b[0;31m    assert exp_pos(4,1) == 4c\u001b[0m\n\u001b[0m                            ^\u001b[0m\n\u001b[0;31mSyntaxError\u001b[0m\u001b[0;31m:\u001b[0m invalid syntax\n"
     ]
    }
   ],
   "source": [
    "\"\"\"Check that exp_pos returns the correct output for several inputs\"\"\"\n",
    "assert exp_pos(3,2) == 9\n",
    "assert exp_pos(3,4) == 81\n",
    "assert exp_pos(1,4) == 1\n",
    "assert exp_pos(4,1) == 4c\n",
    "assert exp_pos(0,4) == 0"
   ]
  },
  {
   "cell_type": "code",
   "execution_count": null,
   "metadata": {
    "collapsed": true,
    "nbgrader": {
     "grade": true,
     "grade_id": "correct_-b_exp_pos",
     "locked": false,
     "points": 1,
     "schema_version": 1,
     "solution": false
    }
   },
   "outputs": [],
   "source": [
    "### BEGIN HIDDEN TESTS\n",
    "assert exp_pos(-2,3) ==-8\n",
    "assert exp_pos(-1,2) ==1\n",
    "assert exp_pos(-1,3) ==-1\n",
    "### END HIDDEN TESTS"
   ]
  },
  {
   "cell_type": "markdown",
   "metadata": {},
   "source": [
    "---\n",
    "\n",
    "## Part B (3 points)\n",
    "\n",
    "Write a function that find the power $b^x$ for any negative integer $x$. Make sure it handles the case where $b=0$ by raising a `ValueError`."
   ]
  },
  {
   "cell_type": "code",
   "execution_count": null,
   "metadata": {
    "collapsed": true,
    "nbgrader": {
     "grade": false,
     "grade_id": "exp_neg",
     "locked": false,
     "schema_version": 1,
     "solution": true
    }
   },
   "outputs": [],
   "source": [
    "def exp_neg(b,x):\n",
    "    \"\"\"Find the power of b^x. Assume x is a negative integer. \n",
    "    \"\"\"\n",
    "    ### BEGIN SOLUTION\n",
    "    if b==0: \n",
    "        raise ValueError(\"Cannot raise base 0 to a negative exponent\")\n",
    "    p=1/b\n",
    "    e=-x\n",
    "    while e>1:\n",
    "        p*=1/b\n",
    "        e-=1\n",
    "    return p\n",
    "    ### END SOLUTION"
   ]
  },
  {
   "cell_type": "markdown",
   "metadata": {},
   "source": [
    "For $n=2,x=-3,$ your function should print 0.125. Check that it does:"
   ]
  },
  {
   "cell_type": "code",
   "execution_count": null,
   "metadata": {},
   "outputs": [],
   "source": [
    "exp_neg(2,-3)"
   ]
  },
  {
   "cell_type": "code",
   "execution_count": null,
   "metadata": {
    "collapsed": true,
    "nbgrader": {
     "grade": true,
     "grade_id": "correct_exp_neg",
     "locked": false,
     "points": 1,
     "schema_version": 1,
     "solution": false
    }
   },
   "outputs": [],
   "source": [
    "\"\"\"Check that exp_neg returns the correct output for several inputs\"\"\"\n",
    "assert exp_neg(3,-2) == 1/9\n",
    "assert exp_neg(3,-4) == 1/81\n",
    "assert exp_neg(1,-4) == 1\n",
    "assert exp_neg(4,-1) == 1/4"
   ]
  },
  {
   "cell_type": "code",
   "execution_count": null,
   "metadata": {
    "collapsed": true,
    "nbgrader": {
     "grade": true,
     "grade_id": "correct_-b_exp_neg",
     "locked": true,
     "points": 1,
     "schema_version": 1,
     "solution": false
    }
   },
   "outputs": [],
   "source": [
    "### BEGIN HIDDEN TESTS\n",
    "assert exp_neg(-2,-3) ==-1/8\n",
    "assert exp_neg(-1,-2) ==1\n",
    "assert exp_neg(-1,-3) ==-1\n",
    "### END HIDDEN TESTS"
   ]
  },
  {
   "cell_type": "code",
   "execution_count": null,
   "metadata": {
    "collapsed": true,
    "nbgrader": {
     "grade": true,
     "grade_id": "correct_exp_neg_error",
     "locked": true,
     "points": 1,
     "schema_version": 1,
     "solution": false
    }
   },
   "outputs": [],
   "source": [
    "\"\"\"Check that exp_neg raises an error for invalid inputs\"\"\"\n",
    "try:\n",
    "    exp_neg(0,-2)\n",
    "except ValueError:\n",
    "    pass\n",
    "else:\n",
    "    raise AssertionError(\"did not raise ValueError\")\n",
    "    \n",
    "try:\n",
    "    exp_neg(0,-1)\n",
    "except ValueError:\n",
    "    pass\n",
    "else:\n",
    "    raise AssertionError(\"did not raise ValueError\")"
   ]
  },
  {
   "cell_type": "markdown",
   "metadata": {},
   "source": [
    "---\n",
    "\n",
    "## Part C (2 points)\n",
    "\n",
    "Using `exp_pos` and `exp_neg` write a function to find the power $b^x$ for any integer $x$."
   ]
  },
  {
   "cell_type": "code",
   "execution_count": null,
   "metadata": {
    "collapsed": true,
    "nbgrader": {
     "grade": false,
     "grade_id": "sum_of_squares",
     "locked": false,
     "schema_version": 1,
     "solution": true
    }
   },
   "outputs": [],
   "source": [
    "def exp(b,x):\n",
    "    \"\"\"Find the power of $b^x$.  \n",
    "    \"\"\"\n",
    "    ### BEGIN SOLUTION\n",
    "    if x>=1: return exp_pos(b,x)\n",
    "    if x<=-1: return exp_neg(b,x)\n",
    "    else: return 1\n",
    "    ### END SOLUTION"
   ]
  },
  {
   "cell_type": "code",
   "execution_count": null,
   "metadata": {
    "collapsed": true,
    "nbgrader": {
     "grade": true,
     "grade_id": "correct_exp",
     "locked": false,
     "points": 1,
     "schema_version": 1,
     "solution": false
    }
   },
   "outputs": [],
   "source": [
    "\"\"\"Check that exp returns the correct output for several inputs\"\"\"\n",
    "assert exp(3,2) == 9\n",
    "assert exp(3,4) == 81\n",
    "assert exp(1,4) == 1\n",
    "assert exp(4,1) == 4\n",
    "assert exp(3,-2) == 1/9\n",
    "assert exp(3,-4) == 1/81\n",
    "assert exp(1,-4) == 1\n",
    "assert exp(4,-1) == 1/4\n",
    "\n",
    "\"\"\"Check that exp raises an error for invalid inputs\"\"\"\n",
    "try:\n",
    "    exp(0,-2)\n",
    "except ValueError:\n",
    "    pass\n",
    "else:\n",
    "    raise AssertionError(\"did not raise ValueError\")"
   ]
  },
  {
   "cell_type": "code",
   "execution_count": null,
   "metadata": {
    "collapsed": true,
    "nbgrader": {
     "grade": true,
     "grade_id": "correct_p0_exp",
     "locked": true,
     "points": 1,
     "schema_version": 1,
     "solution": false
    }
   },
   "outputs": [],
   "source": [
    "### BEGIN HIDDEN TESTS\n",
    "assert exp(2,0) == 1\n",
    "assert exp(-2,0) == 1\n",
    "### END HIDDEN TESTS"
   ]
  }
 ],
 "metadata": {
  "celltoolbar": "Create Assignment",
  "kernelspec": {
   "display_name": "Python 3",
   "language": "python",
   "name": "python3"
  }
 },
 "nbformat": 4,
 "nbformat_minor": 1
}
